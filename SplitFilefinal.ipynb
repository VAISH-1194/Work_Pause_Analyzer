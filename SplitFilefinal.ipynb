{
  "nbformat": 4,
  "nbformat_minor": 0,
  "metadata": {
    "colab": {
      "provenance": [],
      "authorship_tag": "ABX9TyO5CD3QvHDphpWAllvYC645"
    },
    "kernelspec": {
      "name": "python3",
      "display_name": "Python 3"
    },
    "language_info": {
      "name": "python"
    }
  },
  "cells": [
    {
      "cell_type": "code",
      "source": [
        "import pandas as pd\n",
        "import zipfile\n",
        "import os\n",
        "from google.colab import files as colab_files\n",
        "\n",
        "# Load the Excel file\n",
        "file_path = '/content/June_Break Time-Part 2 (1).xls'\n",
        "xls = pd.ExcelFile(file_path)\n",
        "\n",
        "# Function to split tables and include the two lines above each table\n",
        "def split_tables(df):\n",
        "    tables = []\n",
        "    current_table = None\n",
        "    current_headers = []\n",
        "\n",
        "    for idx, row in df.iterrows():\n",
        "        if pd.isna(row[0]) and pd.isna(row[1]):\n",
        "            # Encounter a header row\n",
        "            if current_table is not None:\n",
        "                tables.append((current_headers, current_table))\n",
        "            current_headers = [row.tolist()]\n",
        "            current_table = pd.DataFrame()\n",
        "        elif current_headers and not pd.isna(row[0]):\n",
        "            # Add rows to the current table\n",
        "            current_table = pd.concat([current_table, pd.DataFrame([row.tolist()])], ignore_index=True)\n",
        "        else:\n",
        "            current_headers.append(row.tolist())\n",
        "\n",
        "    if current_table is not None:\n",
        "        tables.append((current_headers, current_table))\n",
        "\n",
        "    return tables\n",
        "\n",
        "# Read the first sheet\n",
        "df = xls.parse(xls.sheet_names[0])\n",
        "\n",
        "# Split the tables\n",
        "tables = split_tables(df)\n",
        "\n",
        "# Create a directory to save the split tables\n",
        "output_dir = '/content/split_tables'\n",
        "os.makedirs(output_dir, exist_ok=True)\n",
        "\n",
        "# Save each table as a separate Excel file\n",
        "for i, (headers, table) in enumerate(tables):\n",
        "    file_name = f'table_{i+1}.xlsx'\n",
        "    file_path = os.path.join(output_dir, file_name)\n",
        "\n",
        "    with pd.ExcelWriter(file_path) as writer:\n",
        "        # Write headers\n",
        "        for j, header in enumerate(headers):\n",
        "            header_df = pd.DataFrame([header])\n",
        "            header_df.to_excel(writer, index=False, header=False, startrow=j)\n",
        "        # Write table\n",
        "        table.to_excel(writer, index=False, header=True, startrow=len(headers))\n",
        "\n",
        "# Create a zip file containing all the split tables\n",
        "zip_file_path = '/content/split_tables.zip'\n",
        "with zipfile.ZipFile(zip_file_path, 'w') as zipf:\n",
        "    for root, _, files in os.walk(output_dir):\n",
        "        for file in files:\n",
        "            zipf.write(os.path.join(root, file), file)\n",
        "\n",
        "# Download the zip file\n",
        "colab_files.download(zip_file_path)\n",
        "\n",
        "print(\"All tables have been split and saved into a zip file successfully.\")\n"
      ],
      "metadata": {
        "colab": {
          "base_uri": "https://localhost:8080/",
          "height": 34
        },
        "id": "uGN_NveE5E4J",
        "outputId": "3a8ac9d3-65cc-4511-e518-cb734aa27d42"
      },
      "execution_count": null,
      "outputs": [
        {
          "output_type": "display_data",
          "data": {
            "text/plain": [
              "<IPython.core.display.Javascript object>"
            ],
            "application/javascript": [
              "\n",
              "    async function download(id, filename, size) {\n",
              "      if (!google.colab.kernel.accessAllowed) {\n",
              "        return;\n",
              "      }\n",
              "      const div = document.createElement('div');\n",
              "      const label = document.createElement('label');\n",
              "      label.textContent = `Downloading \"${filename}\": `;\n",
              "      div.appendChild(label);\n",
              "      const progress = document.createElement('progress');\n",
              "      progress.max = size;\n",
              "      div.appendChild(progress);\n",
              "      document.body.appendChild(div);\n",
              "\n",
              "      const buffers = [];\n",
              "      let downloaded = 0;\n",
              "\n",
              "      const channel = await google.colab.kernel.comms.open(id);\n",
              "      // Send a message to notify the kernel that we're ready.\n",
              "      channel.send({})\n",
              "\n",
              "      for await (const message of channel.messages) {\n",
              "        // Send a message to notify the kernel that we're ready.\n",
              "        channel.send({})\n",
              "        if (message.buffers) {\n",
              "          for (const buffer of message.buffers) {\n",
              "            buffers.push(buffer);\n",
              "            downloaded += buffer.byteLength;\n",
              "            progress.value = downloaded;\n",
              "          }\n",
              "        }\n",
              "      }\n",
              "      const blob = new Blob(buffers, {type: 'application/binary'});\n",
              "      const a = document.createElement('a');\n",
              "      a.href = window.URL.createObjectURL(blob);\n",
              "      a.download = filename;\n",
              "      div.appendChild(a);\n",
              "      a.click();\n",
              "      div.remove();\n",
              "    }\n",
              "  "
            ]
          },
          "metadata": {}
        },
        {
          "output_type": "display_data",
          "data": {
            "text/plain": [
              "<IPython.core.display.Javascript object>"
            ],
            "application/javascript": [
              "download(\"download_96163789-ffd8-4175-9ae3-27c84f67a30a\", \"split_tables.zip\", 327502)"
            ]
          },
          "metadata": {}
        },
        {
          "output_type": "stream",
          "name": "stdout",
          "text": [
            "All tables have been split and saved into a zip file successfully.\n"
          ]
        }
      ]
    }
  ]
}